{
 "cells": [
  {
   "cell_type": "code",
   "execution_count": 1,
   "id": "initial_id",
   "metadata": {
    "collapsed": true,
    "ExecuteTime": {
     "end_time": "2024-02-17T19:41:31.978886100Z",
     "start_time": "2024-02-17T19:41:31.554816Z"
    }
   },
   "outputs": [],
   "source": [
    "import cv2\n",
    "import numpy as np\n",
    "import os\n",
    "import matplotlib.pyplot as plt\n",
    "import random\n"
   ]
  },
  {
   "cell_type": "code",
   "execution_count": 2,
   "outputs": [],
   "source": [
    "def show_img(img):\n",
    "    plt.imshow(img, cmap='gray')\n",
    "    plt.show()"
   ],
   "metadata": {
    "collapsed": false,
    "ExecuteTime": {
     "end_time": "2024-02-17T19:41:33.292046900Z",
     "start_time": "2024-02-17T19:41:33.284049100Z"
    }
   },
   "id": "68afc77b8a00ac61"
  },
  {
   "cell_type": "code",
   "execution_count": 3,
   "outputs": [],
   "source": [
    "def load_img(path):\n",
    "    img = cv2.imread(path, cv2.IMREAD_GRAYSCALE)\n",
    "    return img"
   ],
   "metadata": {
    "collapsed": false,
    "ExecuteTime": {
     "end_time": "2024-02-17T19:41:34.006874600Z",
     "start_time": "2024-02-17T19:41:33.992876700Z"
    }
   },
   "id": "753ded684bb122da"
  },
  {
   "cell_type": "code",
   "execution_count": 4,
   "outputs": [],
   "source": [
    "CATEGORIES = [\"Rock\", \"Paper\", \"Scissors\"]\n",
    "ROOT_DIR = \"C:/Users/Satyamedh/PycharmProjects/WebcamRockPaperScissors\"\n",
    "DATA_DIR = os.path.join(ROOT_DIR, \"data\")"
   ],
   "metadata": {
    "collapsed": false,
    "ExecuteTime": {
     "end_time": "2024-02-17T19:41:34.591881Z",
     "start_time": "2024-02-17T19:41:34.583881900Z"
    }
   },
   "id": "d3c162d4e38a5d79"
  },
  {
   "cell_type": "code",
   "execution_count": 5,
   "outputs": [],
   "source": [
    "training_data = []\n",
    "\n",
    "# To balance the dataset, we will take the first 100 images from each category\n",
    "\n",
    "for category in CATEGORIES:\n",
    "    count = 0 # This is a band aid way. it's 1:11 am pls don't judge\n",
    "    path = os.path.join(DATA_DIR, category)\n",
    "    for img in os.listdir(path):\n",
    "        img_array = cv2.imread(os.path.join(path, img), cv2.IMREAD_GRAYSCALE)\n",
    "        img_array = cv2.absdiff(img_array, 255)\n",
    "        training_data.append([img_array, CATEGORIES.index(category)])\n",
    "        count += 1\n",
    "        if count == 100:\n",
    "            break\n",
    "        \n",
    "        \n",
    "        \n",
    "    "
   ],
   "metadata": {
    "collapsed": false,
    "ExecuteTime": {
     "end_time": "2024-02-17T19:41:35.346192300Z",
     "start_time": "2024-02-17T19:41:35.248194400Z"
    }
   },
   "id": "685f4407d3e3e1a"
  },
  {
   "cell_type": "code",
   "execution_count": 7,
   "outputs": [
    {
     "data": {
      "text/plain": "300"
     },
     "execution_count": 7,
     "metadata": {},
     "output_type": "execute_result"
    }
   ],
   "source": [
    "random.shuffle(training_data)\n",
    "len(training_data)"
   ],
   "metadata": {
    "collapsed": false,
    "ExecuteTime": {
     "end_time": "2024-02-17T19:41:45.469650Z",
     "start_time": "2024-02-17T19:41:45.456650200Z"
    }
   },
   "id": "91fef7e56248af20"
  },
  {
   "cell_type": "code",
   "execution_count": 8,
   "outputs": [],
   "source": [
    "X = []\n",
    "y = []\n",
    "\n",
    "for features, label in training_data:\n",
    "    X.append(features)\n",
    "    y.append(label)\n",
    "    \n",
    "X = np.array(X).reshape(-1, 200, 200, 1)"
   ],
   "metadata": {
    "collapsed": false,
    "ExecuteTime": {
     "end_time": "2024-02-17T19:41:48.483574900Z",
     "start_time": "2024-02-17T19:41:48.468575Z"
    }
   },
   "id": "22316f0cfdb01134"
  },
  {
   "cell_type": "code",
   "execution_count": 9,
   "outputs": [],
   "source": [
    "import pickle\n",
    "\n",
    "pickle_out = open(\"X.pickle\", \"wb\")\n",
    "pickle.dump(X, pickle_out)\n",
    "pickle_out.close()\n",
    "\n",
    "pickle_out = open(\"y.pickle\", \"wb\")\n",
    "pickle.dump(y, pickle_out)\n",
    "pickle_out.close()\n"
   ],
   "metadata": {
    "collapsed": false,
    "ExecuteTime": {
     "end_time": "2024-02-17T19:41:49.564415300Z",
     "start_time": "2024-02-17T19:41:49.548414900Z"
    }
   },
   "id": "808c96c98e03fedc"
  },
  {
   "cell_type": "code",
   "execution_count": null,
   "outputs": [],
   "source": [],
   "metadata": {
    "collapsed": false
   },
   "id": "d92d57726b23e10b"
  }
 ],
 "metadata": {
  "kernelspec": {
   "display_name": "Python 3",
   "language": "python",
   "name": "python3"
  },
  "language_info": {
   "codemirror_mode": {
    "name": "ipython",
    "version": 2
   },
   "file_extension": ".py",
   "mimetype": "text/x-python",
   "name": "python",
   "nbconvert_exporter": "python",
   "pygments_lexer": "ipython2",
   "version": "2.7.6"
  }
 },
 "nbformat": 4,
 "nbformat_minor": 5
}
