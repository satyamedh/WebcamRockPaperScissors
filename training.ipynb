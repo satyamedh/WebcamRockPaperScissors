{
 "cells": [
  {
   "cell_type": "code",
   "execution_count": 12,
   "id": "initial_id",
   "metadata": {
    "collapsed": true,
    "ExecuteTime": {
     "end_time": "2024-02-17T19:50:49.340492700Z",
     "start_time": "2024-02-17T19:50:49.338490800Z"
    }
   },
   "outputs": [],
   "source": [
    "import tensorflow as tf\n",
    "import numpy as np\n",
    "import matplotlib.pyplot as plt\n",
    "import os\n",
    "import cv2\n",
    "from keras.optimizers import Adam\n",
    "from keras.models import Sequential\n",
    "from keras.layers import Dense, Dropout, Flatten, Conv2D, MaxPooling2D, Activation\n",
    "from keras.callbacks import TensorBoard\n",
    "import random\n"
   ]
  },
  {
   "cell_type": "code",
   "execution_count": 8,
   "outputs": [],
   "source": [
    "EPOCHS = 10\n",
    "IMG_SIZE = 200\n",
    "CATEGORIES = [\"Rock\", \"Paper\", \"Scissors\"]\n",
    "ROOT_DIR = \"/mnt/c/Users/Satyamedh/PycharmProjects/WebcamRockPaperScissors\" # use wsl mounting path cuz fukin tensorflow doesn't work on windows with gpu\n"
   ],
   "metadata": {
    "collapsed": false,
    "ExecuteTime": {
     "end_time": "2024-02-17T19:43:17.238588400Z",
     "start_time": "2024-02-17T19:43:17.236572300Z"
    }
   },
   "id": "67f717b6e1360d78"
  },
  {
   "cell_type": "code",
   "execution_count": 15,
   "outputs": [],
   "source": [
    "# Load the data stored in X.pickle and y.pickle\n",
    "import pickle\n",
    "\n",
    "X = pickle.load(open(os.path.join(ROOT_DIR, \"X.pickle\"), \"rb\"))\n",
    "y = pickle.load(open(os.path.join(ROOT_DIR, \"y.pickle\"), \"rb\"))\n",
    "y = np.array(y)"
   ],
   "metadata": {
    "collapsed": false,
    "ExecuteTime": {
     "end_time": "2024-02-17T19:51:25.276547600Z",
     "start_time": "2024-02-17T19:51:25.243057Z"
    }
   },
   "id": "d1be3f177894c153"
  },
  {
   "cell_type": "code",
   "execution_count": 10,
   "outputs": [],
   "source": [
    "# Normalize the data\n",
    "X = X/255.0"
   ],
   "metadata": {
    "collapsed": false,
    "ExecuteTime": {
     "end_time": "2024-02-17T19:43:18.445276700Z",
     "start_time": "2024-02-17T19:43:18.430279400Z"
    }
   },
   "id": "e69315d1fab74f87"
  },
  {
   "cell_type": "code",
   "execution_count": 6,
   "outputs": [],
   "source": [
    "# Data is already balanced, we can move on to the model. DO NOT SHUFFLE THE DATA AS IT IS ALIGNED WITH THE LABELS"
   ],
   "metadata": {
    "collapsed": false,
    "ExecuteTime": {
     "end_time": "2024-02-17T19:43:05.631864900Z",
     "start_time": "2024-02-17T19:43:05.618864500Z"
    }
   },
   "id": "45cc78b19554d9a4"
  },
  {
   "cell_type": "code",
   "execution_count": 13,
   "outputs": [],
   "source": [
    "# model is a simple 128x3 CNN\n",
    "\n",
    "model = Sequential()\n",
    "\n",
    "model.add(Conv2D(128, (3, 3), input_shape=X.shape[1:]))\n",
    "model.add(Activation(\"relu\"))\n",
    "model.add(MaxPooling2D(pool_size=(2, 2)))\n",
    "\n",
    "model.add(Conv2D(128, (3, 3)))\n",
    "model.add(Activation(\"relu\"))\n",
    "model.add(MaxPooling2D(pool_size=(2, 2)))\n",
    "\n",
    "model.add(Conv2D(128, (3, 3)))\n",
    "model.add(Activation(\"relu\"))\n",
    "model.add(MaxPooling2D(pool_size=(2, 2)))\n",
    "\n",
    "model.add(Flatten())\n",
    "model.add(Dense(128))\n",
    "model.add(Activation(\"relu\"))\n",
    "\n",
    "model.add(Dense(3))\n",
    "model.add(Activation(\"softmax\"))\n",
    "\n",
    "model.compile(loss=\"sparse_categorical_crossentropy\",\n",
    "              optimizer=\"adam\",\n",
    "              metrics=[\"accuracy\"]) # since we are using sparse_categorical_crossentropy, we don't need to one-hot encode the labels yay (I think)\n",
    "\n"
   ],
   "metadata": {
    "collapsed": false,
    "ExecuteTime": {
     "end_time": "2024-02-17T19:50:52.318169Z",
     "start_time": "2024-02-17T19:50:52.215296100Z"
    }
   },
   "id": "5c70b8758298759"
  },
  {
   "cell_type": "code",
   "execution_count": 16,
   "outputs": [
    {
     "name": "stderr",
     "output_type": "stream",
     "text": [
      "2024-02-18 01:21:28.045361: I external/local_tsl/tsl/platform/default/subprocess.cc:304] Start cannot spawn child process: No such file or directory\n"
     ]
    },
    {
     "name": "stdout",
     "output_type": "stream",
     "text": [
      "Epoch 1/10\n"
     ]
    },
    {
     "name": "stderr",
     "output_type": "stream",
     "text": [
      "2024-02-18 01:21:28.739787: I external/local_xla/xla/stream_executor/cuda/cuda_dnn.cc:454] Loaded cuDNN version 8904\n",
      "2024-02-18 01:21:29.101346: I external/local_tsl/tsl/platform/default/subprocess.cc:304] Start cannot spawn child process: No such file or directory\n",
      "2024-02-18 01:21:29.771696: I external/local_xla/xla/service/service.cc:168] XLA service 0x951b230 initialized for platform CUDA (this does not guarantee that XLA will be used). Devices:\n",
      "2024-02-18 01:21:29.771727: I external/local_xla/xla/service/service.cc:176]   StreamExecutor device (0): NVIDIA GeForce RTX 3070, Compute Capability 8.6\n",
      "2024-02-18 01:21:29.784479: I tensorflow/compiler/mlir/tensorflow/utils/dump_mlir_util.cc:269] disabling MLIR crash reproducer, set env var `MLIR_CRASH_REPRODUCER_DIRECTORY` to enable.\n",
      "WARNING: All log messages before absl::InitializeLog() is called are written to STDERR\n",
      "I0000 00:00:1708199489.869121    1687 device_compiler.h:186] Compiled cluster using XLA!  This line is logged at most once for the lifetime of the process.\n"
     ]
    },
    {
     "name": "stdout",
     "output_type": "stream",
     "text": [
      "9/9 [==============================] - 7s 283ms/step - loss: 152.1206 - accuracy: 0.3222 - val_loss: 11.4135 - val_accuracy: 0.2667\n",
      "Epoch 2/10\n",
      "9/9 [==============================] - 0s 52ms/step - loss: 3.2314 - accuracy: 0.4370 - val_loss: 1.2497 - val_accuracy: 0.3000\n",
      "Epoch 3/10\n",
      "9/9 [==============================] - 0s 51ms/step - loss: 1.3746 - accuracy: 0.4333 - val_loss: 1.2273 - val_accuracy: 0.3667\n",
      "Epoch 4/10\n",
      "9/9 [==============================] - 0s 52ms/step - loss: 1.0642 - accuracy: 0.4593 - val_loss: 1.1064 - val_accuracy: 0.3667\n",
      "Epoch 5/10\n",
      "9/9 [==============================] - 0s 52ms/step - loss: 1.0382 - accuracy: 0.5222 - val_loss: 1.0038 - val_accuracy: 0.5000\n",
      "Epoch 6/10\n",
      "9/9 [==============================] - 0s 52ms/step - loss: 0.9461 - accuracy: 0.5778 - val_loss: 0.9291 - val_accuracy: 0.5667\n",
      "Epoch 7/10\n",
      "9/9 [==============================] - 0s 51ms/step - loss: 0.8473 - accuracy: 0.7222 - val_loss: 1.0617 - val_accuracy: 0.3667\n",
      "Epoch 8/10\n",
      "9/9 [==============================] - 0s 51ms/step - loss: 0.7974 - accuracy: 0.6852 - val_loss: 0.7943 - val_accuracy: 0.7333\n",
      "Epoch 9/10\n",
      "9/9 [==============================] - 0s 51ms/step - loss: 0.6259 - accuracy: 0.8111 - val_loss: 0.5829 - val_accuracy: 0.7667\n",
      "Epoch 10/10\n",
      "9/9 [==============================] - 0s 51ms/step - loss: 0.5361 - accuracy: 0.8074 - val_loss: 0.6275 - val_accuracy: 0.7667\n"
     ]
    },
    {
     "data": {
      "text/plain": "<keras.src.callbacks.History at 0x7f9d325ef940>"
     },
     "execution_count": 16,
     "metadata": {},
     "output_type": "execute_result"
    }
   ],
   "source": [
    "# Train the model!\n",
    "tensorboard = TensorBoard(log_dir=os.path.join(ROOT_DIR, \"logs\"))\n",
    "model.fit(X, y, batch_size=32, epochs=EPOCHS, validation_split=0.1, callbacks=[tensorboard])"
   ],
   "metadata": {
    "collapsed": false,
    "ExecuteTime": {
     "end_time": "2024-02-17T19:51:39.532218500Z",
     "start_time": "2024-02-17T19:51:27.819683600Z"
    }
   },
   "id": "5b4b829ff79d38e1"
  },
  {
   "cell_type": "code",
   "execution_count": 17,
   "outputs": [
    {
     "name": "stdout",
     "output_type": "stream",
     "text": [
      "INFO:tensorflow:Assets written to: /mnt/c/Users/Satyamedh/PycharmProjects/WebcamRockPaperScissors/rock_paper_scissors_FIRST_ONE_EVER.model/assets\n"
     ]
    },
    {
     "name": "stderr",
     "output_type": "stream",
     "text": [
      "INFO:tensorflow:Assets written to: /mnt/c/Users/Satyamedh/PycharmProjects/WebcamRockPaperScissors/rock_paper_scissors_FIRST_ONE_EVER.model/assets\n"
     ]
    }
   ],
   "source": [
    "model.save(os.path.join(ROOT_DIR, \"rock_paper_scissors_FIRST_ONE_EVER.model\"))"
   ],
   "metadata": {
    "collapsed": false,
    "ExecuteTime": {
     "end_time": "2024-02-17T19:56:32.109573600Z",
     "start_time": "2024-02-17T19:56:31.032560400Z"
    }
   },
   "id": "144579e5e1f51c54"
  },
  {
   "cell_type": "code",
   "execution_count": 23,
   "outputs": [
    {
     "name": "stdout",
     "output_type": "stream",
     "text": [
      "1/1 [==============================] - 0s 12ms/step\n",
      "Scissors\n"
     ]
    }
   ],
   "source": [
    "# Let's test the model\n",
    "def prepare(filepath):\n",
    "    IMG_SIZE = 200\n",
    "    img_array = cv2.imread(filepath, cv2.IMREAD_GRAYSCALE)\n",
    "    new_array = cv2.resize(img_array, (IMG_SIZE, IMG_SIZE))\n",
    "    return new_array.reshape(-1, IMG_SIZE, IMG_SIZE, 1)\n",
    "\n",
    "IMG = os.path.join(ROOT_DIR, \"data/Paper/34.jpg\") # A random image from the dataset. prolly should use a different image that the model hasn't seen before but I'll do that tomorrow\n",
    "prediction = model.predict([prepare(IMG)])\n",
    "print(CATEGORIES[np.argmax(prediction)])"
   ],
   "metadata": {
    "collapsed": false,
    "ExecuteTime": {
     "end_time": "2024-02-17T19:59:10.978993100Z",
     "start_time": "2024-02-17T19:59:10.726795300Z"
    }
   },
   "id": "9ed67ab7af992a79"
  },
  {
   "cell_type": "code",
   "execution_count": 22,
   "outputs": [],
   "source": [
    "# yea it sucks. I'll try to get a better dataset tomorrow. goodnight"
   ],
   "metadata": {
    "collapsed": false,
    "ExecuteTime": {
     "end_time": "2024-02-17T19:59:01.936022300Z",
     "start_time": "2024-02-17T19:59:01.930021600Z"
    }
   },
   "id": "e1b42544734554b3"
  },
  {
   "cell_type": "code",
   "execution_count": null,
   "outputs": [],
   "source": [],
   "metadata": {
    "collapsed": false
   },
   "id": "4e45a8d388b6740b"
  }
 ],
 "metadata": {
  "kernelspec": {
   "display_name": "Python 3",
   "language": "python",
   "name": "python3"
  },
  "language_info": {
   "codemirror_mode": {
    "name": "ipython",
    "version": 2
   },
   "file_extension": ".py",
   "mimetype": "text/x-python",
   "name": "python",
   "nbconvert_exporter": "python",
   "pygments_lexer": "ipython2",
   "version": "2.7.6"
  }
 },
 "nbformat": 4,
 "nbformat_minor": 5
}
